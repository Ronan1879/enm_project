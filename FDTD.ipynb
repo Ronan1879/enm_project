{
 "cells": [
  {
   "cell_type": "code",
   "execution_count": 1,
   "metadata": {},
   "outputs": [],
   "source": [
    "import numpy as np\n",
    "import matplotlib.pyplot as plt\n",
    "from mpl_toolkits.mplot3d import Axes3D"
   ]
  },
  {
   "cell_type": "code",
   "execution_count": 89,
   "metadata": {},
   "outputs": [],
   "source": [
    "Npix = 100\n",
    "Nmax = 1000\n",
    "wavelength = 500*10**(-9)\n",
    "umax = 3*10**8\n",
    "freq = 6*10**14\n",
    "c = 3*10**9\n",
    "ep_o = 8.85*10**(-12)\n",
    "mu_o = 12.57*10**(-7)\n",
    "wavelength = dt = ep_o = mu_o = c = umax = freq = 1\n",
    "\n",
    "#dx = dy = dz = wavelength/100\n",
    "#dt = dx/(umax*np.sqrt(3))\n",
    "\n",
    "dx = dy = dz = 0.1\n",
    "dt = 0.01\n",
    "R = dt/(2*ep_o)\n",
    "Ra = (c*dt/dx)**2\n",
    "Rb = dt/(mu_o*dx)\n",
    "\n",
    "#Ex = Ey = Ez = Hx = Hy = Hz = np.zeros((Npix,Npix))\n",
    "\n",
    "sig_types = [1,1,1]\n",
    "ep_r_types = [1,1,1]\n",
    "media = np.zeros((Npix,Npix,Npix))\n",
    "media[:,:,:int(Npix/3)] = 0\n",
    "media[:,:,int(Npix/3):int(2*Npix/3)] = 1\n",
    "media[:,:,int(2*Npix/3):] = 2\n",
    "\n",
    "sigma = sig_types[0]*(media == 0) + sig_types[1]*(media == 1) + sig_types[2]*(media == 2)\n",
    "ep_r = ep_r_types[0]*(media == 0) + ep_r_types[1]*(media == 1) + ep_r_types[2]*(media == 2)\n",
    "Ca = (1 - (R*sigma/ep_r))/(1 + (R*sigma/ep_r))\n",
    "Cb = Ra/(ep_r + R*sigma)"
   ]
  },
  {
   "cell_type": "code",
   "execution_count": 90,
   "metadata": {
    "scrolled": true
   },
   "outputs": [
    {
     "data": {
      "image/png": "[encoded data removed]",
      "text/plain": [
       "<Figure size 288x288 with 1 Axes>"
      ]
     },
     "metadata": {
      "needs_background": "light"
     },
     "output_type": "display_data"
    }
   ],
   "source": [
    "# Initialize\n",
    "E = H = np.zeros((Npix,Npix,Npix,3))\n",
    "\n",
    "# initial conditions\n",
    "x = dx*np.array(range(Npix))\n",
    "y = dy*np.array(range(Npix))\n",
    "z = dz*np.array(range(Npix))\n",
    "#x,y = np.array(np.meshgrid(x,y))\n",
    "E[:,Npix//5,int(Npix/2),2] = np.sin(50*x/(Npix*dx))#*np.sin(50*y[2:5]/(Npix*dy))\n",
    "H[:,Npix//5,int(Npix/2),1] = np.sin(50*x/(Npix*dx))#*np.sin(50*y[2:5]/(Npix*dy))\n",
    "\n",
    "# Define x and y array and find center of grid cx, cy\n",
    "cx = dx*Npix//2\n",
    "cy = dy*Npix//2\n",
    "cz = dz*Npix//2\n",
    "\n",
    "# Define temporary scattering object condition\n",
    "bc = np.ones((Npix,Npix,Npix))\n",
    "\n",
    "# Define sphere as scattering object\n",
    "radius = dx*Npix/4\n",
    "mask = (x[np.newaxis,:]-cx)**2 + (y[:,np.newaxis]-cy)**2 + (z[:,np.newaxis]-cz)**2 <= radius**2\n",
    "bc[mask] = 0\n",
    "\n",
    "\n",
    "for n in range(Nmax):\n",
    "\n",
    "    E_temp = H_temp = np.zeros((Npix,Npix,Npix,3))\n",
    "    \n",
    "    for i in range(3):\n",
    "        # This sets the E and H fields to 0 within and on boundary of scattering object\n",
    "        E[:,:,:,i] *= bc\n",
    "        H[:,:,:,i] *= bc\n",
    "    # 3.93 a)\n",
    "    H_temp[:,:,:,0] = H[:,:,:,0] + Rb*np.roll(E[:,:,:,1],-1,axis=2) - E[:,:,:,1] - np.roll(E[:,:,:,2],-1,axis=1) + E[:,:,:,2]\n",
    "    # 3.93 b)\n",
    "    H_temp[:,:,:,1] = H[:,:,:,1] + Rb*np.roll(E[:,:,:,2],-1,axis=0) - E[:,:,:,2] - np.roll(E[:,:,:,0],-1,axis=2) + E[:,:,:,0]\n",
    "    # 3.93 c)\n",
    "    H_temp[:,:,:,2] = H[:,:,:,2] + Rb*np.roll(E[:,:,:,0],-1,axis=1) - E[:,:,:,0] - np.roll(E[:,:,:,1],-1,axis=0) + E[:,:,:,1]\n",
    "    # 3.93 d)\n",
    "    E_temp[:,:,:,0] = Ca*E[:,:,:,0] + Cb/Rb*(H[:,:,:,2] - np.roll(H[:,:,:,2],1,axis=1) - H[:,:,:,1] + np.roll(H[:,:,:,1],1,axis=2))\n",
    "    # 3.93 e)\n",
    "    E_temp[:,:,:,1] = Ca*E[:,:,:,1] + Cb/Rb*(H[:,:,:,0] - np.roll(H[:,:,:,0],1,axis=2) - H[:,:,:,2] + np.roll(H[:,:,:,2],1,axis=0))\n",
    "    # 3.93 f)\n",
    "    E_temp[:,:,:,2] = Ca*E[:,:,:,2] + Cb/Rb*(H[:,:,:,1] - np.roll(H[:,:,:,1],1,axis=1) - H[:,:,:,0] + np.roll(H[:,:,:,0],1,axis=1))\n",
    "    \n",
    "    # For i = 1/2 plane\n",
    "    H_temp[0,:,:,1] = 1/3*(np.roll(H[2,:,:,1],2,axis=1) + H[2,:,:,1] + np.roll(H[2,:,:,1],-2,axis=1))\n",
    "    \n",
    "    H_temp[0,:,:,2] = 1/3*(np.roll(H[2,:,:,2],2,axis=1) + H[2,:,:,2] + np.roll(H[2,:,:,2],-2,axis=1))\n",
    "    \n",
    "    # For plane i = Imax+1/2\n",
    "    H_temp[-1,:,:,1] = 1/3*(np.roll(H[-2,:,:,1],2,axis=1) + H[-2,:,:,1] + np.roll(H[-2,:,:,1],-2,axis=1))\n",
    "    H_temp[-1,:,:,2] = 1/3*(np.roll(H[-2,:,:,2],2,axis=1) + H[-2,:,:,2] + np.roll(H[-2,:,:,2],-2,axis=1))\n",
    "    \n",
    "    # For plane j = 0\n",
    "    E_temp[:,0,:,0] = E[:,2,:,0]\n",
    "    E_temp[:,0,:,2] = E[:,2,:,2]\n",
    "    \n",
    "    # For plane j= Jmax\n",
    "    E_temp[:,-1,:,0] = E[:,-3,:,0] \n",
    "    E_temp[:,-1,:,2] = E[:,-3,:,2] \n",
    "    \n",
    "    # For k = 0\n",
    "    E_temp[:,:,0,0] = 1/3*(np.roll(E[:,:,2,0],2,axis=0) + E[:,:,2,0] + np.roll(E[:,:,2,0],-2,axis=0))\n",
    "    E_temp[:,:,0,1] = 1/3*(np.roll(E[:,:,2,1],2,axis=0) + E[:,:,2,1] + np.roll(E[:,:,2,1],-2,axis=0))\n",
    "    \n",
    "    # For plane k = Kmax\n",
    "    E_temp[:,:,-1,0] = 1/3*(np.roll(E[:,:,-3,0],2,axis=0) + E[:,:,-3,0] + np.roll(E[:,:,-3,0],-2,axis=0))\n",
    "    E_temp[:,:,-1,1] = 1/3*(np.roll(E[:,:,-3,1],2,axis=0) + E[:,:,-3,1] + np.roll(E[:,:,-3,1],-2,axis=0))\n",
    "    \n",
    "    E=E_temp\n",
    "    H=H_temp\n",
    "    \n",
    "    \n",
    "    x = dx*np.array(range(Npix))\n",
    "    y = dy*np.array(range(Npix))\n",
    "    x,y = np.array(np.meshgrid(x,y))\n",
    "    z = E[:,:,int(Npix/2),2]\n",
    "    #ax.plot_surface(x,y,z)\n",
    "    \n",
    "    #plt.plot(E[Npix//2,:,Npix//2,2])\n",
    "    #plt.show()\n",
    "    #plt.pause(0.01)\n",
    "#plt.savefig(\"plot.png\")\n",
    "fig = plt.figure(figsize=(4,4))\n",
    "ax = fig.add_subplot(111)\n",
    "plt.plot(E[Npix//2,:,Npix//2,2])\n",
    "plt.show()"
   ]
  }
 ],
 "metadata": {
  "kernelspec": {
   "display_name": "Python 3",
   "language": "python",
   "name": "python3"
  },
  "language_info": {
   "codemirror_mode": {
    "name": "ipython",
    "version": 3
   },
   "file_extension": ".py",
   "mimetype": "text/x-python",
   "name": "python",
   "nbconvert_exporter": "python",
   "pygments_lexer": "ipython3",
   "version": "3.7.3"
  }
 },
 "nbformat": 4,
 "nbformat_minor": 2
}
